{
 "cells": [
  {
   "cell_type": "markdown",
   "id": "dbd0931c-5883-49b0-afa0-f43322faee60",
   "metadata": {},
   "source": [
    "# PET ROI SUV Statistics\n",
    "\n",
    "This notebook will take in ROI files (NIfTI format) and calculate SUV statistics on the PET scan.\n",
    "\n",
    "## Introduction\n",
    "\n",
    "In this notebook, we will:\n",
    "1. Load ROI files in NIfTI format.\n",
    "2. Load the corresponding PET scan.\n",
    "3. Calculate SUV statistics for the regions of interest.\n",
    "\n"
   ]
  },
  {
   "cell_type": "markdown",
   "id": "4c2bcd35-c1bd-43ba-b460-d7299356e45f",
   "metadata": {},
   "source": [
    "## 1. Convert PET DICOM scans to NIFTI format"
   ]
  },
  {
   "cell_type": "code",
   "execution_count": 78,
   "id": "00e7f853-f66d-4980-8555-03c57abb74bd",
   "metadata": {},
   "outputs": [
    {
     "name": "stdout",
     "output_type": "stream",
     "text": [
      "DICOM files from /Users/williamlee/Documents/UC Davis COVID Study/COVID Patients/1697954_FDG_COVID_Pt002_JP/20121026/SUV-P8ct_BS_40-60_2.3IT_4it_PSFoff have been converted to NIfTI format and saved to /Users/williamlee/Documents/UC Davis COVID Study/COVID Patients/1697954_FDG_COVID_Pt002_JP/20121026\n"
     ]
    }
   ],
   "source": [
    "import dicom2nifti as d2n\n",
    "\n",
    "PET_path = \"/Users/williamlee/Documents/UC Davis COVID Study/COVID Patients/1697954_FDG_COVID_Pt002_JP/20121026/SUV-P8ct_BS_40-60_2.3IT_4it_PSFoff\"\n",
    "output_path = \"/Users/williamlee/Documents/UC Davis COVID Study/COVID Patients/1697954_FDG_COVID_Pt002_JP/20121026/\"\n",
    "\n",
    "d2n.convert_directory(PET_path, output_path)\n",
    "\n",
    "print(f'DICOM files from {PET_path} have been converted to NIfTI format and saved to {output_path}')"
   ]
  },
  {
   "cell_type": "markdown",
   "id": "8bdc7f54-1bdd-4e26-82c2-e091f098f32f",
   "metadata": {},
   "source": [
    "## 2. Load ROI files and convert PET scans to SUV values"
   ]
  },
  {
   "cell_type": "code",
   "execution_count": 1,
   "id": "14d06d04-bbce-4bd8-88d9-8b152b07d5e5",
   "metadata": {},
   "outputs": [],
   "source": [
    "import nibabel as nib\n",
    "import numpy as np\n",
    "import pydicom\n",
    "import datetime\n",
    "import os\n",
    "from scipy import interpolate\n",
    "import pandas as pd\n",
    "import matplotlib.pyplot as plt\n",
    "from ipywidgets import interact, IntSlider\n",
    "\n",
    "# Upscale SUV values (256,256) to segmentation mask resolution (512,512)\n",
    "def upscale_suv_values_3d(suv_values, new_shape):\n",
    "    # Get the shape of the original SUV values array\n",
    "    original_shape = suv_values.shape\n",
    "    \n",
    "    # Create arrays of coordinates for the original and new SUV values arrays\n",
    "    x = np.linspace(0, 1, original_shape[0])\n",
    "    y = np.linspace(0, 1, original_shape[1])\n",
    "    z = np.linspace(0, 1, original_shape[2])\n",
    "    \n",
    "    new_x = np.linspace(0, 1, new_shape[0])\n",
    "    new_y = np.linspace(0, 1, new_shape[1])\n",
    "    new_z = np.linspace(0, 1, new_shape[2])\n",
    "    \n",
    "    # Create meshgrids of the coordinates\n",
    "    x_mesh, y_mesh, z_mesh = np.meshgrid(x, y, z, indexing='ij')\n",
    "    new_x_mesh, new_y_mesh, new_z_mesh = np.meshgrid(new_x, new_y, new_z, indexing='ij')\n",
    "    \n",
    "    # Interpolate the SUV values to the new coordinates in each dimension\n",
    "    suv_interpolated = np.zeros(new_shape)\n",
    "    for i in range(original_shape[2]):\n",
    "        suv_interpolated[:, :, i] = interpolate.interpn((x, y), suv_values[:, :, i], (new_x_mesh[:, :, i], new_y_mesh[:, :, i]), method='linear', bounds_error=False, fill_value=None)\n",
    "    \n",
    "    return suv_interpolated\n",
    "\n",
    "def load_nifti_file(filepath):\n",
    "    \"\"\"Load a NIfTI file and return the data array.\"\"\"\n",
    "    nifti_img = nib.load(filepath)\n",
    "    data = nifti_img.get_fdata()\n",
    "    return data\n",
    "\n",
    "def convert_raw_PET_to_SUV(pet_dicom, pet_nifti):\n",
    "    PET_data = load_nifti_file(pet_nifti)\n",
    "    print(pet_dicom)\n",
    "    full_path = os.path.join(pet_dicom, os.listdir(pet_dicom)[0])\n",
    "    ds = pydicom.dcmread(full_path)\n",
    "    \n",
    "    # Get Scan time (Osirix uses SeriesTime, but can change to AcquisitionTime. Series time seems more precise)\n",
    "    scantime = parse_time(ds.SeriesTime)\n",
    "    # Start Time for the Radiopharmaceutical Injection\n",
    "    injection_time = parse_time(ds.RadiopharmaceuticalInformationSequence[0].RadiopharmaceuticalStartTime)\n",
    "    # Half Life for Radionuclide # seconds\n",
    "    half_life = float(ds.RadiopharmaceuticalInformationSequence[0].RadionuclideHalfLife) \n",
    "    # Total dose injected for Radionuclide\n",
    "    injected_dose = float(ds.RadiopharmaceuticalInformationSequence[0].RadionuclideTotalDose)\n",
    "    \n",
    "    # Calculate dose decay correction factor\n",
    "    decay_correction_factor = np.exp(-np.log(2)*((scantime-injection_time).seconds)/half_life)\n",
    "\n",
    "    \n",
    "    patient_weight = ds.\n",
    "    SUV_factor = (patient_weight) / (total_dose * decay_correction_factor)\n",
    "    \n",
    "    return(PET_data * SUV_factor)\n",
    "\n",
    "def calculate_suv_statistics(roi_data, pet_data):\n",
    "    \"\"\"Calculate SUV statistics for each unique ROI.\"\"\"\n",
    "    unique_rois = np.unique(roi_data)\n",
    "    suv_stats = {}\n",
    "    \n",
    "    for roi in unique_rois:\n",
    "        if roi == 0:\n",
    "            continue  # Skip the background\n",
    "        roi_mask = roi_data == roi\n",
    "        suv_values = pet_data[roi_mask]\n",
    "        \n",
    "        mean_suv = np.mean(suv_values)\n",
    "        median_suv = np.median(suv_values)\n",
    "        std_suv = np.std(suv_values)\n",
    "        \n",
    "        suv_stats[roi] = {\n",
    "            'mean': mean_suv,\n",
    "            'median': median_suv,\n",
    "            'std': std_suv\n",
    "        }\n",
    "    return suv_stats\n",
    "\n",
    "# Function to parse time with or without fractional seconds\n",
    "def parse_time(time_str):\n",
    "    try:\n",
    "        # Try parsing with fractional seconds\n",
    "        return datetime.datetime.strptime(time_str, '%H%M%S.%f')\n",
    "    except ValueError:\n",
    "        # Fallback to parsing without fractional seconds\n",
    "        return datetime.datetime.strptime(time_str, '%H%M%S')\n",
    "\n",
    "def visualize_array(array):\n",
    "    # Define a function to plot a heatmap of a given layer\n",
    "    def plot_heatmap(layer):\n",
    "        plt.figure(figsize=(8, 6))\n",
    "        plt.imshow(array[:, :, layer], cmap='viridis', origin='lower')\n",
    "        plt.colorbar(label='Value')\n",
    "        plt.title(f'Layer {layer}')\n",
    "        plt.xlabel('X')\n",
    "        plt.ylabel('Y')\n",
    "        plt.show()\n",
    "\n",
    "    # Use interact to create a slider for scrolling through layers\n",
    "    interact(plot_heatmap, layer=IntSlider(min=0, max=array.shape[2] - 1, step=1, value=0))"
   ]
  },
  {
   "cell_type": "code",
   "execution_count": 3,
   "id": "f594bd78-08c3-42cb-8628-d41da8df0736",
   "metadata": {},
   "outputs": [
    {
     "name": "stdout",
     "output_type": "stream",
     "text": [
      "/Users/williamlee/Documents/UC Davis COVID Study/COVID Patients/1697954_FDG_COVID_Pt002_JP/20121026/SUV-P8ct_BS_40-60_2.3IT_4it_PSFoff\n"
     ]
    },
    {
     "ename": "NameError",
     "evalue": "name 'patient_weight' is not defined",
     "output_type": "error",
     "traceback": [
      "\u001b[0;31m---------------------------------------------------------------------------\u001b[0m",
      "\u001b[0;31mNameError\u001b[0m                                 Traceback (most recent call last)",
      "Cell \u001b[0;32mIn[3], line 4\u001b[0m\n\u001b[1;32m      1\u001b[0m nifti_path \u001b[38;5;241m=\u001b[39m \u001b[38;5;124m\"\u001b[39m\u001b[38;5;124m/Users/williamlee/Documents/UC Davis COVID Study/COVID Patients/1697954_FDG_COVID_Pt002_JP/20121026/302_suv-p8ct_bs_40-60_23it_4it_psfoff.nii.gz\u001b[39m\u001b[38;5;124m\"\u001b[39m\n\u001b[1;32m      2\u001b[0m dicom_path \u001b[38;5;241m=\u001b[39m \u001b[38;5;124m\"\u001b[39m\u001b[38;5;124m/Users/williamlee/Documents/UC Davis COVID Study/COVID Patients/1697954_FDG_COVID_Pt002_JP/20121026/SUV-P8ct_BS_40-60_2.3IT_4it_PSFoff\u001b[39m\u001b[38;5;124m\"\u001b[39m\n\u001b[0;32m----> 4\u001b[0m SUV_vals \u001b[38;5;241m=\u001b[39m \u001b[43mconvert_raw_PET_to_SUV\u001b[49m\u001b[43m(\u001b[49m\u001b[43mdicom_path\u001b[49m\u001b[43m,\u001b[49m\u001b[43m \u001b[49m\u001b[43mnifti_path\u001b[49m\u001b[43m)\u001b[49m\n\u001b[1;32m      5\u001b[0m SUV_vals\u001b[38;5;241m.\u001b[39mshape\n\u001b[1;32m      6\u001b[0m array_range \u001b[38;5;241m=\u001b[39m np\u001b[38;5;241m.\u001b[39mptp(SUV_vals)\n",
      "Cell \u001b[0;32mIn[1], line 60\u001b[0m, in \u001b[0;36mconvert_raw_PET_to_SUV\u001b[0;34m(pet_dicom, pet_nifti)\u001b[0m\n\u001b[1;32m     57\u001b[0m \u001b[38;5;66;03m# Calculate dose decay correction factor\u001b[39;00m\n\u001b[1;32m     58\u001b[0m decay_correction_factor \u001b[38;5;241m=\u001b[39m np\u001b[38;5;241m.\u001b[39mexp(\u001b[38;5;241m-\u001b[39mnp\u001b[38;5;241m.\u001b[39mlog(\u001b[38;5;241m2\u001b[39m)\u001b[38;5;241m*\u001b[39m((scantime\u001b[38;5;241m-\u001b[39minjection_time)\u001b[38;5;241m.\u001b[39mseconds)\u001b[38;5;241m/\u001b[39mhalf_life)\n\u001b[0;32m---> 60\u001b[0m SUV_factor \u001b[38;5;241m=\u001b[39m (\u001b[43mpatient_weight\u001b[49m) \u001b[38;5;241m/\u001b[39m (total_dose \u001b[38;5;241m*\u001b[39m decay_correction_factor)\n\u001b[1;32m     62\u001b[0m \u001b[38;5;28;01mreturn\u001b[39;00m(PET_data \u001b[38;5;241m*\u001b[39m SUV_factor)\n",
      "\u001b[0;31mNameError\u001b[0m: name 'patient_weight' is not defined"
     ]
    }
   ],
   "source": [
    "nifti_path = \"/Users/williamlee/Documents/UC Davis COVID Study/COVID Patients/1697954_FDG_COVID_Pt002_JP/20121026/302_suv-p8ct_bs_40-60_23it_4it_psfoff.nii.gz\"\n",
    "dicom_path = \"/Users/williamlee/Documents/UC Davis COVID Study/COVID Patients/1697954_FDG_COVID_Pt002_JP/20121026/SUV-P8ct_BS_40-60_2.3IT_4it_PSFoff\"\n",
    "\n",
    "SUV_vals = convert_raw_PET_to_SUV(dicom_path, nifti_path)\n",
    "SUV_vals.shape\n",
    "array_range = np.ptp(SUV_vals)\n",
    "print(array_range)"
   ]
  },
  {
   "cell_type": "markdown",
   "id": "ac335074-7189-4542-9954-d90fa1e6c323",
   "metadata": {},
   "source": [
    "$$\n",
    "\\text{decay\\_correction\\_factor} = \\exp\\left(-\\ln(2) \\cdot \\frac{\\text{{scantime}} - \\text{{injection\\_time}}}{\\text{{half\\_life}}}\\right)\n",
    "$$\n"
   ]
  },
  {
   "cell_type": "markdown",
   "id": "38875650-a1f3-41ec-8ea7-6ab51fd1b429",
   "metadata": {},
   "source": [
    "## 3. Calculate SUV statistics within ROIs"
   ]
  },
  {
   "cell_type": "code",
   "execution_count": 97,
   "id": "cdd1914c-ba07-4e33-a2d2-094b224c689b",
   "metadata": {},
   "outputs": [
    {
     "data": {
      "image/png": "[encoded data removed]",
      "text/plain": [
       "<Figure size 800x600 with 2 Axes>"
      ]
     },
     "metadata": {},
     "output_type": "display_data"
    },
    {
     "data": {
      "application/vnd.jupyter.widget-view+json": {
       "model_id": "f7c197598be54a9fb48960422a8ded32",
       "version_major": 2,
       "version_minor": 0
      },
      "text/plain": [
       "interactive(children=(IntSlider(value=0, description='layer', max=827), Output()), _dom_classes=('widget-inter…"
      ]
     },
     "metadata": {},
     "output_type": "display_data"
    }
   ],
   "source": [
    "visualize_array(SUV_vals)"
   ]
  },
  {
   "cell_type": "code",
   "execution_count": 91,
   "id": "7951dff2-2bed-4b5a-9429-655287667b50",
   "metadata": {},
   "outputs": [
    {
     "name": "stdout",
     "output_type": "stream",
     "text": [
      "(512, 512, 828)\n"
     ]
    },
    {
     "data": {
      "text/html": [
       "<div>\n",
       "<style scoped>\n",
       "    .dataframe tbody tr th:only-of-type {\n",
       "        vertical-align: middle;\n",
       "    }\n",
       "\n",
       "    .dataframe tbody tr th {\n",
       "        vertical-align: top;\n",
       "    }\n",
       "\n",
       "    .dataframe thead th {\n",
       "        text-align: right;\n",
       "    }\n",
       "</style>\n",
       "<table border=\"1\" class=\"dataframe\">\n",
       "  <thead>\n",
       "    <tr style=\"text-align: right;\">\n",
       "      <th></th>\n",
       "      <th>1.0</th>\n",
       "      <th>2.0</th>\n",
       "      <th>3.0</th>\n",
       "      <th>4.0</th>\n",
       "      <th>5.0</th>\n",
       "      <th>6.0</th>\n",
       "      <th>7.0</th>\n",
       "      <th>8.0</th>\n",
       "      <th>9.0</th>\n",
       "      <th>10.0</th>\n",
       "      <th>...</th>\n",
       "      <th>108.0</th>\n",
       "      <th>109.0</th>\n",
       "      <th>110.0</th>\n",
       "      <th>111.0</th>\n",
       "      <th>112.0</th>\n",
       "      <th>113.0</th>\n",
       "      <th>114.0</th>\n",
       "      <th>115.0</th>\n",
       "      <th>116.0</th>\n",
       "      <th>117.0</th>\n",
       "    </tr>\n",
       "  </thead>\n",
       "  <tbody>\n",
       "    <tr>\n",
       "      <th>mean</th>\n",
       "      <td>0.816201</td>\n",
       "      <td>2.218232</td>\n",
       "      <td>0.770853</td>\n",
       "      <td>3.375697</td>\n",
       "      <td>1.276223</td>\n",
       "      <td>2.995071</td>\n",
       "      <td>2.635592</td>\n",
       "      <td>1.579427</td>\n",
       "      <td>1.661155</td>\n",
       "      <td>0.686801</td>\n",
       "      <td>...</td>\n",
       "      <td>0.676592</td>\n",
       "      <td>0.686799</td>\n",
       "      <td>0.936173</td>\n",
       "      <td>0.940037</td>\n",
       "      <td>0.650369</td>\n",
       "      <td>0.433225</td>\n",
       "      <td>0.463777</td>\n",
       "      <td>0.336334</td>\n",
       "      <td>1.265180</td>\n",
       "      <td>1.456310</td>\n",
       "    </tr>\n",
       "    <tr>\n",
       "      <th>median</th>\n",
       "      <td>0.793080</td>\n",
       "      <td>1.763944</td>\n",
       "      <td>0.705256</td>\n",
       "      <td>3.562352</td>\n",
       "      <td>1.100223</td>\n",
       "      <td>2.671892</td>\n",
       "      <td>2.826495</td>\n",
       "      <td>1.538411</td>\n",
       "      <td>1.606011</td>\n",
       "      <td>0.665961</td>\n",
       "      <td>...</td>\n",
       "      <td>0.486785</td>\n",
       "      <td>0.628322</td>\n",
       "      <td>0.762420</td>\n",
       "      <td>0.695548</td>\n",
       "      <td>0.516829</td>\n",
       "      <td>0.385168</td>\n",
       "      <td>0.359747</td>\n",
       "      <td>0.298564</td>\n",
       "      <td>0.799522</td>\n",
       "      <td>0.983471</td>\n",
       "    </tr>\n",
       "    <tr>\n",
       "      <th>std</th>\n",
       "      <td>0.363481</td>\n",
       "      <td>1.278214</td>\n",
       "      <td>0.426966</td>\n",
       "      <td>0.624017</td>\n",
       "      <td>0.761872</td>\n",
       "      <td>1.931598</td>\n",
       "      <td>1.061141</td>\n",
       "      <td>0.270805</td>\n",
       "      <td>0.404776</td>\n",
       "      <td>0.483304</td>\n",
       "      <td>...</td>\n",
       "      <td>0.592306</td>\n",
       "      <td>0.497242</td>\n",
       "      <td>0.939885</td>\n",
       "      <td>1.045145</td>\n",
       "      <td>0.700056</td>\n",
       "      <td>0.250183</td>\n",
       "      <td>0.273606</td>\n",
       "      <td>0.151981</td>\n",
       "      <td>1.189634</td>\n",
       "      <td>1.234656</td>\n",
       "    </tr>\n",
       "  </tbody>\n",
       "</table>\n",
       "<p>3 rows × 115 columns</p>\n",
       "</div>"
      ],
      "text/plain": [
       "           1.0       2.0       3.0       4.0       5.0       6.0       7.0    \\\n",
       "mean    0.816201  2.218232  0.770853  3.375697  1.276223  2.995071  2.635592   \n",
       "median  0.793080  1.763944  0.705256  3.562352  1.100223  2.671892  2.826495   \n",
       "std     0.363481  1.278214  0.426966  0.624017  0.761872  1.931598  1.061141   \n",
       "\n",
       "           8.0       9.0       10.0   ...     108.0     109.0     110.0  \\\n",
       "mean    1.579427  1.661155  0.686801  ...  0.676592  0.686799  0.936173   \n",
       "median  1.538411  1.606011  0.665961  ...  0.486785  0.628322  0.762420   \n",
       "std     0.270805  0.404776  0.483304  ...  0.592306  0.497242  0.939885   \n",
       "\n",
       "           111.0     112.0     113.0     114.0     115.0     116.0     117.0  \n",
       "mean    0.940037  0.650369  0.433225  0.463777  0.336334  1.265180  1.456310  \n",
       "median  0.695548  0.516829  0.385168  0.359747  0.298564  0.799522  0.983471  \n",
       "std     1.045145  0.700056  0.250183  0.273606  0.151981  1.189634  1.234656  \n",
       "\n",
       "[3 rows x 115 columns]"
      ]
     },
     "metadata": {},
     "output_type": "display_data"
    }
   ],
   "source": [
    "segmentation_path = \"/Users/williamlee/Documents/UC Davis COVID Study/COVID Patients/1697954_FDG_COVID_Pt002_JP/20121026/segmentation1.nii\"\n",
    "segmentation_img = nib.load(segmentation_path)\n",
    "segmentation_data = segmentation_img.get_fdata()\n",
    "\n",
    "new_shape = (512, 512, segmentation_data.shape[2])\n",
    "\n",
    "upscaled_suv_values = upscale_suv_values_3d(SUV_vals, new_shape)\n",
    "print(upscaled_suv_values.shape)\n",
    "\n",
    "stats = calculate_suv_statistics(segmentation_data, upscaled_suv_values)\n",
    "\n",
    "# Convert array to a pandas DataFrame for better display\n",
    "df = pd.DataFrame(stats)\n",
    "\n",
    "# Display the DataFrame\n",
    "display(df)"
   ]
  },
  {
   "cell_type": "code",
   "execution_count": 82,
   "id": "9df96951-5477-49f2-9e8b-1e81441350e9",
   "metadata": {},
   "outputs": [
    {
     "data": {
      "text/plain": [
       "(512, 512, 828)"
      ]
     },
     "execution_count": 82,
     "metadata": {},
     "output_type": "execute_result"
    }
   ],
   "source": [
    "segmentation_data.shape"
   ]
  },
  {
   "cell_type": "code",
   "execution_count": 83,
   "id": "07d78faf-bd98-49f4-be5c-108437001d82",
   "metadata": {},
   "outputs": [
    {
     "data": {
      "text/plain": [
       "(256, 256, 828)"
      ]
     },
     "execution_count": 83,
     "metadata": {},
     "output_type": "execute_result"
    }
   ],
   "source": [
    "SUV_vals.shape"
   ]
  },
  {
   "cell_type": "code",
   "execution_count": null,
   "id": "c31fb3ff-957d-43d2-9f55-f82cf061ad2e",
   "metadata": {},
   "outputs": [],
   "source": []
  }
 ],
 "metadata": {
  "kernelspec": {
   "display_name": "Python 3 (ipykernel)",
   "language": "python",
   "name": "python3"
  },
  "language_info": {
   "codemirror_mode": {
    "name": "ipython",
    "version": 3
   },
   "file_extension": ".py",
   "mimetype": "text/x-python",
   "name": "python",
   "nbconvert_exporter": "python",
   "pygments_lexer": "ipython3",
   "version": "3.11.9"
  }
 },
 "nbformat": 4,
 "nbformat_minor": 5
}
