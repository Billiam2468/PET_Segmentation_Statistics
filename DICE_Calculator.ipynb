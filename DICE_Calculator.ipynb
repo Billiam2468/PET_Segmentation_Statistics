{
 "cells": [
  {
   "cell_type": "code",
   "execution_count": 1,
   "id": "86d25861-7191-4e37-b2c9-a7e86048fead",
   "metadata": {},
   "outputs": [],
   "source": [
    "import nibabel as nib\n",
    "import numpy as np"
   ]
  },
  {
   "cell_type": "code",
   "execution_count": 18,
   "id": "98446448-d09d-4a52-8e2f-ab41c56955a8",
   "metadata": {},
   "outputs": [],
   "source": [
    "# Loads segmentation data\n",
    "def load_nifti_file(filepath):\n",
    "    \"\"\"Load a NIfTI file and return the data array.\"\"\"\n",
    "    nifti_img = nib.load(filepath)\n",
    "    data = nifti_img.get_fdata()\n",
    "    return data\n",
    "\n",
    "# Calculates the DICE coefficient of the label for two masks (segmentations)\n",
    "def dice_coefficient(mask1, mask2, label):\n",
    "    \"\"\"Calculate the Dice coefficient for a specific label.\"\"\"\n",
    "    mask1_label = (mask1 == label)\n",
    "    mask2_label = (mask2 == label)\n",
    "    \n",
    "    intersection = np.sum(mask1_label & mask2_label)\n",
    "    volume_sum = np.sum(mask1_label) + np.sum(mask2_label)\n",
    "    \n",
    "    if volume_sum == 0:\n",
    "        return 1.0  # Both masks are empty, so the Dice coefficient is 1\n",
    "    \n",
    "    return 2.0 * intersection / volume_sum"
   ]
  },
  {
   "cell_type": "code",
   "execution_count": 19,
   "id": "5a48b0f3-35a5-434a-8842-da1242ed1dc4",
   "metadata": {},
   "outputs": [
    {
     "name": "stdout",
     "output_type": "stream",
     "text": [
      "0.9764966236073904\n"
     ]
    }
   ],
   "source": [
    "true_data = load_nifti_file(\"/Users/williamlee/Desktop/segmentation1.nii\")\n",
    "predicted_data = load_nifti_file(\"/Users/williamlee/Desktop/segmentationEdited_1-label_2.nii\")\n",
    "\n",
    "print(dice_coefficient(true_data, predicted_data, 5))"
   ]
  },
  {
   "cell_type": "code",
   "execution_count": null,
   "id": "47822c0c-f111-4145-9bf6-9e3f9ad29c4e",
   "metadata": {},
   "outputs": [],
   "source": []
  }
 ],
 "metadata": {
  "kernelspec": {
   "display_name": "Python 3 (ipykernel)",
   "language": "python",
   "name": "python3"
  },
  "language_info": {
   "codemirror_mode": {
    "name": "ipython",
    "version": 3
   },
   "file_extension": ".py",
   "mimetype": "text/x-python",
   "name": "python",
   "nbconvert_exporter": "python",
   "pygments_lexer": "ipython3",
   "version": "3.11.9"
  }
 },
 "nbformat": 4,
 "nbformat_minor": 5
}
