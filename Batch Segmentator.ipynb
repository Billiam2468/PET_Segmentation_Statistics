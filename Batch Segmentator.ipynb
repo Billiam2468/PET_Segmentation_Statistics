{
 "cells": [
  {
   "cell_type": "markdown",
   "metadata": {},
   "source": [
    "# Batch Total Segmentation\n",
    "\n",
    "This notebook will take in batches of DICOM files and run the TotalSegmentator model on them"
   ]
  },
  {
   "cell_type": "code",
   "execution_count": 1,
   "metadata": {},
   "outputs": [
    {
     "name": "stdout",
     "output_type": "stream",
     "text": [
      "E:/UC Davis COVID Study/COVID Patients\\1697954_FDG_COVID_Pt010_KH\\20130503\\CT_SOFT_512x512\n",
      "E:/UC Davis COVID Study/COVID Patients\\1697954_FDG_COVID_Pt010_KH\\20130105\\CT_SOFT_512x512\n",
      "E:/UC Davis COVID Study/COVID Patients\\1697954_FDG_COVID_Pt008_NT\\20130429\\CT_SOFT_512x512\n",
      "E:/UC Davis COVID Study/COVID Patients\\1697954_FDG_COVID_Pt008_NT\\20121227\\CT_SOFT_512x512\n",
      "E:/UC Davis COVID Study/COVID Patients\\1697954_FDG_COVID_Pt003_LC\\20121029\\CT_SOFT_512x512\n",
      "E:/UC Davis COVID Study/COVID Patients\\1697954_FDG_COVID_Pt003_LC\\20130228\\CT_SOFT_512x512\n",
      "E:/UC Davis COVID Study/COVID Patients\\1697954_FDG_COVID_Pt014_LO\\20130418\\CT_SOFT_512x512\n",
      "E:/UC Davis COVID Study/COVID Patients\\1697954_FDG_COVID_Pt014_LO\\20130818\\CT_SOFT_512x512\n",
      "E:/UC Davis COVID Study/COVID Patients\\1697954_FDG_COVID_Pt007_ZB\\20121222\\CT_SOFT_512x512\n",
      "E:/UC Davis COVID Study/COVID Patients\\1697954_FDG_COVID_Pt007_ZB\\20130426\\CT_SOFT_512x512\n",
      "E:/UC Davis COVID Study/COVID Patients\\1697954_FDG_COVID_Pt006_CB\\20130506\\CT_SOFT_512x512\n",
      "E:/UC Davis COVID Study/COVID Patients\\1697954_FDG_COVID_Pt006_CB\\20130104\\CT_SOFT_512X512\n",
      "E:/UC Davis COVID Study/COVID Patients\\1697954_FDG_COVID_Pt002_JP\\20121026\\CT_SOFT_512x512\n",
      "E:/UC Davis COVID Study/COVID Patients\\1697954_FDG_COVID_Pt002_JP\\20130223\\CT_SOFT_512x512\n",
      "E:/UC Davis COVID Study/COVID Patients\\1697954_FDG_COVID_Pt018_MW\\20130915\\CT_SOFT_512x512\n",
      "E:/UC Davis COVID Study/COVID Patients\\1697954_FDG_COVID_Pt018_MW\\20130517\\CT_SOFT_512x512\n",
      "E:/UC Davis COVID Study/COVID Patients\\1697954_FDG_COVID_Pt004_MR\\20130411\\CT_SOFT_512x512\n",
      "E:/UC Davis COVID Study/COVID Patients\\1697954_FDG_COVID_Pt004_MR\\20121129\\CT_SOFT_512x512\n",
      "E:/UC Davis COVID Study/COVID Patients\\1697954_FDG_COVID_Pt009_VB\\20130118\\CT_SOFT_512X512\n",
      "E:/UC Davis COVID Study/COVID Patients\\1697954_FDG_COVID_Pt009_VB\\20130520\\CT_SOFT_512x512\n",
      "E:/UC Davis COVID Study/COVID Patients\\1697954_FDG_COVID_Pt017_ST\\20130921\\CT_SOFT_512x512\n",
      "E:/UC Davis COVID Study/COVID Patients\\1697954_FDG_COVID_Pt017_ST\\20130518\\CT_SOFT_512x512\n",
      "E:/UC Davis COVID Study/COVID Patients\\1697954_FDG_COVID_Pt015_FM\\20130502\\CT_SOFT_512x512\n",
      "E:/UC Davis COVID Study/COVID Patients\\1697954_FDG_COVID_Pt015_FM\\20130907\\CT_SOFT_512x512\n",
      "E:/UC Davis COVID Study/Healthy Controls\\1341792-Sub023-A01-CJ\\20110227\\CT_SOFT_BS_512x512\n",
      "E:/UC Davis COVID Study/Healthy Controls\\1341792-Sub012-A01-BJ\\20101127\\CT_SOFT_BS_512x512\n",
      "E:/UC Davis COVID Study/Healthy Controls\\1341792-Sub013-A01-MY\\20101218\\CT_SOFT_512x512\n",
      "E:/UC Davis COVID Study/Healthy Controls\\1341792-Sub033-A01-HBE\\20110403\\CT_SOFT_512x512\n",
      "E:/UC Davis COVID Study/Healthy Controls\\1341792-Sub031-A01-MJ\\20110410\\CT_SOFT_512x512\n",
      "E:/UC Davis COVID Study/Healthy Controls\\1341792-Sub011-A01-KE\\20101122\\CT_SOFT_BS_512x512\n",
      "E:/UC Davis COVID Study/Healthy Controls\\1341792-Sub032-A01-AMB\\20110409\\CT_SOFT_512x512\n",
      "E:/UC Davis COVID Study/Healthy Controls\\1341792-Sub027-A01-KB\\20110307\\CT_SOFT_YGA_512x512\n",
      "E:/UC Davis COVID Study/Healthy Controls\\1341792-Sub017-A01-CA\\20110226\\CT_SOFT_BS_512x512\n",
      "E:/UC Davis COVID Study/Healthy Controls\\1341792-Sub021-A01-JO\\20110317\\CT_SOFT_512x512\n",
      "E:/UC Davis COVID Study/Healthy Controls\\1341792-Sub025-A01-LD\\20110303\\CT_SOFT_BS_512X512\n",
      "E:/UC Davis COVID Study/Healthy Controls\\1341792-Sub024-A01-WWW\\20110204\\CT_SOFT_512x512\n",
      "E:/UC Davis COVID Study/Healthy Controls\\1341792-Sub001-A01-TJ\\20100905\\CT_SOFT_BS_512x512\n",
      "E:/UC Davis COVID Study/Healthy Controls\\1341792-Sub034-A01-HMN\\20110401\\CT_SOFT_BS_512x512\n",
      "38\n"
     ]
    }
   ],
   "source": [
    "import os\n",
    "\n",
    "counter = 0\n",
    "home_dir = \"E:/UC Davis COVID Study/\"\n",
    "with os.scandir(home_dir) as entries:\n",
    "    for entry in entries:\n",
    "        if entry.is_dir():\n",
    "            #print(entry.name)\n",
    "            \n",
    "            group_dir = os.path.join(home_dir, entry)\n",
    "            with os.scandir(group_dir) as patients:\n",
    "                for patient in patients:\n",
    "                    if patient.is_dir():\n",
    "                        #print(patient)\n",
    "\n",
    "                        patient_dir = os.path.join(group_dir, patient)\n",
    "                        with os.scandir(patient_dir) as scan_times:\n",
    "                            for scan_time in scan_times:\n",
    "                                if scan_time.is_dir():\n",
    "                                    #print(scan_time.name)\n",
    "\n",
    "                                    scan_dir = os.path.join(patient_dir, scan_time)\n",
    "                                    with os.scandir(scan_dir) as scans:\n",
    "                                        for scan in scans:\n",
    "                                            if scan.is_dir():\n",
    "                                                if scan.name[:2] == \"CT\":\n",
    "                                                    print(os.path.join(scan_dir, scan.name))\n",
    "                                                    counter = counter + 1\n",
    "\n",
    "print(counter)"
   ]
  },
  {
   "cell_type": "code",
   "execution_count": 2,
   "metadata": {},
   "outputs": [
    {
     "name": "stderr",
     "output_type": "stream",
     "text": [
      "C:\\Users\\kirim\\AppData\\Local\\Programs\\Python\\Python310\\lib\\site-packages\\nnunetv2\\utilities\\plans_handling\\plans_handler.py:37: UserWarning: Detected old nnU-Net plans format. Attempting to reconstruct network architecture parameters. If this fails, rerun nnUNetv2_plan_experiment for your dataset. If you use a custom architecture, please downgrade nnU-Net to the version you implemented this or update your implementation + plans.\n",
      "  warnings.warn(\"Detected old nnU-Net plans format. Attempting to reconstruct network architecture \"\n",
      "\n",
      "  0%|          | 0/44 [00:00<?, ?it/s]\n",
      "  2%|2         | 1/44 [00:03<02:21,  3.28s/it]\n",
      " 43%|####3     | 19/44 [00:03<00:03,  7.61it/s]\n",
      " 59%|#####9    | 26/44 [00:03<00:01,  9.07it/s]\n",
      " 70%|#######   | 31/44 [00:04<00:01, 10.11it/s]\n",
      " 80%|#######9  | 35/44 [00:04<00:00, 10.89it/s]\n",
      " 86%|########6 | 38/44 [00:04<00:00, 11.59it/s]\n",
      " 93%|#########3| 41/44 [00:04<00:00, 12.11it/s]\n",
      " 98%|#########7| 43/44 [00:05<00:00, 12.39it/s]\n",
      "100%|##########| 44/44 [00:05<00:00,  8.62it/s]\n",
      "multiprocessing.pool.RemoteTraceback: \n",
      "\"\"\"\n",
      "Traceback (most recent call last):\n",
      "  File \"C:\\Users\\kirim\\AppData\\Local\\Programs\\Python\\Python310\\lib\\multiprocessing\\pool.py\", line 125, in worker\n",
      "    result = (True, func(*args, **kwds))\n",
      "  File \"C:\\Users\\kirim\\AppData\\Local\\Programs\\Python\\Python310\\lib\\multiprocessing\\pool.py\", line 51, in starmapstar\n",
      "    return list(itertools.starmap(args[0], args[1]))\n",
      "  File \"C:\\Users\\kirim\\AppData\\Local\\Programs\\Python\\Python310\\lib\\site-packages\\nnunetv2\\inference\\export_prediction.py\", line 88, in export_prediction_from_logits\n",
      "    ret = convert_predicted_logits_to_segmentation_with_correct_shape(\n",
      "  File \"C:\\Users\\kirim\\AppData\\Local\\Programs\\Python\\Python310\\lib\\site-packages\\nnunetv2\\inference\\export_prediction.py\", line 36, in convert_predicted_logits_to_segmentation_with_correct_shape\n",
      "    predicted_probabilities = label_manager.apply_inference_nonlin(predicted_logits)\n",
      "  File \"C:\\Users\\kirim\\AppData\\Local\\Programs\\Python\\Python310\\lib\\site-packages\\nnunetv2\\utilities\\label_handling\\label_handling.py\", line 138, in apply_inference_nonlin\n",
      "    logits = logits.float()\n",
      "RuntimeError: [enforce fail at alloc_cpu.cpp:114] data. DefaultCPUAllocator: not enough memory: you tried to allocate 8516854376 bytes.\n",
      "\"\"\"\n",
      "\n",
      "The above exception was the direct cause of the following exception:\n",
      "\n",
      "Traceback (most recent call last):\n",
      "  File \"C:\\Users\\kirim\\AppData\\Local\\Programs\\Python\\Python310\\lib\\runpy.py\", line 196, in _run_module_as_main\n",
      "    return _run_code(code, main_globals, None,\n",
      "  File \"C:\\Users\\kirim\\AppData\\Local\\Programs\\Python\\Python310\\lib\\runpy.py\", line 86, in _run_code\n",
      "    exec(code, run_globals)\n",
      "  File \"C:\\Users\\kirim\\AppData\\Local\\Programs\\Python\\Python310\\Scripts\\TotalSegmentator.exe\\__main__.py\", line 7, in <module>\n",
      "    sys.exit(main())\n",
      "  File \"C:\\Users\\kirim\\AppData\\Local\\Programs\\Python\\Python310\\lib\\site-packages\\totalsegmentator\\bin\\TotalSegmentator.py\", line 132, in main\n",
      "    totalsegmentator(args.input, args.output, args.ml, args.nr_thr_resamp, args.nr_thr_saving,\n",
      "  File \"C:\\Users\\kirim\\AppData\\Local\\Programs\\Python\\Python310\\lib\\site-packages\\totalsegmentator\\python_api.py\", line 325, in totalsegmentator\n",
      "    seg_img, ct_img = nnUNet_predict_image(input, output, task_id, model=model, folds=folds,\n",
      "  File \"C:\\Users\\kirim\\AppData\\Local\\Programs\\Python\\Python310\\lib\\site-packages\\totalsegmentator\\nnunet.py\", line 440, in nnUNet_predict_image\n",
      "    nnUNetv2_predict(tmp_dir, tmp_dir, task_id, model, folds, trainer, tta,\n",
      "  File \"C:\\Users\\kirim\\AppData\\Local\\Programs\\Python\\Python310\\lib\\site-packages\\totalsegmentator\\nnunet.py\", line 243, in nnUNetv2_predict\n",
      "    predictor.predict_from_files(dir_in, dir_out,\n",
      "  File \"C:\\Users\\kirim\\AppData\\Local\\Programs\\Python\\Python310\\lib\\site-packages\\nnunetv2\\inference\\predict_from_raw_data.py\", line 256, in predict_from_files\n",
      "    return self.predict_from_data_iterator(data_iterator, save_probabilities, num_processes_segmentation_export)\n",
      "  File \"C:\\Users\\kirim\\AppData\\Local\\Programs\\Python\\Python310\\lib\\site-packages\\nnunetv2\\inference\\predict_from_raw_data.py\", line 408, in predict_from_data_iterator\n",
      "    ret = [i.get()[0] for i in r]\n",
      "  File \"C:\\Users\\kirim\\AppData\\Local\\Programs\\Python\\Python310\\lib\\site-packages\\nnunetv2\\inference\\predict_from_raw_data.py\", line 408, in <listcomp>\n",
      "    ret = [i.get()[0] for i in r]\n",
      "  File \"C:\\Users\\kirim\\AppData\\Local\\Programs\\Python\\Python310\\lib\\multiprocessing\\pool.py\", line 771, in get\n",
      "    raise self._value\n",
      "RuntimeError: [enforce fail at alloc_cpu.cpp:114] data. DefaultCPUAllocator: not enough memory: you tried to allocate 8516854376 bytes.\n"
     ]
    }
   ],
   "source": [
    "!TotalSegmentator -i \"E:/UC Davis COVID Study/Healthy Controls\\1341792-Sub023-A01-CJ\\20110227\\CT_SOFT_BS_512x512\" -o \"D:/Documents/Scans/notebooktest\" --fast --ml"
   ]
  },
  {
   "cell_type": "markdown",
   "metadata": {},
   "source": []
  }
 ],
 "metadata": {
  "kernelspec": {
   "display_name": "Python 3 (ipykernel)",
   "language": "python",
   "name": "python3"
  },
  "language_info": {
   "codemirror_mode": {
    "name": "ipython",
    "version": 3
   },
   "file_extension": ".py",
   "mimetype": "text/x-python",
   "name": "python",
   "nbconvert_exporter": "python",
   "pygments_lexer": "ipython3",
   "version": "3.11.9"
  }
 },
 "nbformat": 4,
 "nbformat_minor": 4
}
